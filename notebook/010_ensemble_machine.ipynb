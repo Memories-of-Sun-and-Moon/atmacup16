{
 "cells": [
  {
   "cell_type": "code",
   "execution_count": 2,
   "metadata": {},
   "outputs": [],
   "source": [
    "import pandas as pd\n",
    "import numpy as np\n",
    "from tqdm import tqdm\n",
    "from collections import defaultdict"
   ]
  },
  {
   "cell_type": "code",
   "execution_count": 3,
   "metadata": {},
   "outputs": [],
   "source": [
    "paths = [\n",
    "    \"../#7_submission.csv\", # LB: 0.3992 (lgb)\n",
    "    \"../#9_submission.csv\" # LB: 0.4238 (rule-based)\n",
    "]\n",
    "\n",
    "subs = pd.concat([pd.read_csv(path) for path in paths], axis=1)"
   ]
  },
  {
   "cell_type": "code",
   "execution_count": 9,
   "metadata": {},
   "outputs": [],
   "source": [
    "def process_row(rows):\n",
    "    scores = defaultdict(int)\n",
    "    preds = rows.values.reshape((len(paths), -1))\n",
    "    for pred in preds:\n",
    "        for i, yad in enumerate(pred):\n",
    "            score = 10 - i\n",
    "            scores[yad] += score\n",
    "    top_10_keys = sorted(scores, key=scores.get, reverse=True)[:10]\n",
    "    while len(top_10_keys) < 10:\n",
    "        top_10_keys.append(3338)\n",
    "    return top_10_keys\n",
    "\n",
    "result = subs.apply(process_row, axis=1)\n",
    "sub = pd.DataFrame(result.to_list(), columns=[f'predict_{i}' for i in range(10)])\n",
    "sub = sub.astype(int)\n",
    "sub.to_csv(\"../#10_submission.csv\", index=False)"
   ]
  }
 ],
 "metadata": {
  "kernelspec": {
   "display_name": "atma16env",
   "language": "python",
   "name": "python3"
  },
  "language_info": {
   "codemirror_mode": {
    "name": "ipython",
    "version": 3
   },
   "file_extension": ".py",
   "mimetype": "text/x-python",
   "name": "python",
   "nbconvert_exporter": "python",
   "pygments_lexer": "ipython3",
   "version": "3.10.12"
  }
 },
 "nbformat": 4,
 "nbformat_minor": 2
}
