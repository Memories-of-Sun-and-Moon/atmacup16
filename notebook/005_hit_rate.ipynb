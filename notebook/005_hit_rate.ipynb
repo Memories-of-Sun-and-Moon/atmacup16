{
 "cells": [
  {
   "cell_type": "code",
   "execution_count": 2,
   "metadata": {},
   "outputs": [],
   "source": [
    "import os\n",
    "from glob import glob\n",
    "\n",
    "import pandas as pd\n",
    "import matplotlib.pyplot as plt\n",
    "import seaborn as sns\n",
    "import numpy as np\n",
    "\n",
    "from contextlib import contextmanager\n",
    "from time import time\n",
    "import matplotlib.pyplot as plt\n",
    "import seaborn as sns\n",
    "import random\n",
    "import shutil\n",
    "\n",
    "%matplotlib inline\n",
    "\n",
    "\n",
    "# ref: Kaggleコード遺産 https://qiita.com/kaggle_grandmaster-arai-san/items/d59b2fb7142ec7e270a5 \n",
    "class Timer:\n",
    "    def __init__(self, logger=None, format_str=\"{:.3f}[s]\", prefix=None, suffix=None, sep=\" \"):\n",
    "\n",
    "        if prefix: format_str = str(prefix) + sep + format_str\n",
    "        if suffix: format_str = format_str + sep + str(suffix)\n",
    "        self.format_str = format_str\n",
    "        self.logger = logger\n",
    "        self.start = None\n",
    "        self.end = None\n",
    "\n",
    "    @property\n",
    "    def duration(self):\n",
    "        if self.end is None:\n",
    "            return 0\n",
    "        return self.end - self.start\n",
    "\n",
    "    def __enter__(self):\n",
    "        self.start = time()\n",
    "\n",
    "    def __exit__(self, exc_type, exc_val, exc_tb):\n",
    "        self.end = time()\n",
    "        out_str = self.format_str.format(self.duration)\n",
    "        if self.logger:\n",
    "            self.logger.info(out_str)\n",
    "        else:\n",
    "            print(out_str)\n",
    "\n",
    "\n",
    "def seed_everything(seed: int):\n",
    "    random.seed(seed)\n",
    "    os.environ[\"PYTHONHASHSEED\"] = str(seed)\n",
    "    np.random.seed(seed)\n",
    "    \n",
    "# 再現性確保!\n",
    "seed_everything(427)\n",
    "\n",
    "from pathlib import Path\n",
    "# data_dir\n",
    "DATA_DIR = Path(\"../data/\")\n",
    "\n",
    "# 学習用のログデータと正解ラベル\n",
    "train_log_df = pd.read_csv(DATA_DIR / \"train_log.csv\")\n",
    "train_label_df = pd.read_csv(DATA_DIR / \"train_label.csv\")\n",
    "\n",
    "# 宿のデータ\n",
    "yado_df = pd.read_csv(DATA_DIR / \"yado.csv\")\n",
    "\n",
    "# テスト期間のログデータ\n",
    "test_log_df = pd.read_csv(DATA_DIR / \"test_log.csv\")\n",
    "\n",
    "sample_submission_df = pd.read_csv(DATA_DIR / \"sample_submission.csv\")\n",
    "\n",
    "# 画像のデータ\n",
    "image_df = pd.read_parquet(DATA_DIR / \"image_embeddings.parquet\")\n",
    "\n",
    "# すべてのログデータはあとあと参照をするので先に作っておきます.\n",
    "whole_log_df = pd.concat([train_log_df, test_log_df], ignore_index=True)"
   ]
  },
  {
   "cell_type": "code",
   "execution_count": 11,
   "metadata": {},
   "outputs": [],
   "source": [
    "\n",
    "def calc_area(area: str, top:int) -> float:\n",
    "\n",
    "    # 宿の出現回数を計算\n",
    "    yad_count = train_log_df.groupby(\"yad_no\").size().rename(\"yad_count\").reset_index()\n",
    "\n",
    "    # 宿のマスター情報を紐づけて\n",
    "    _df = pd.merge(yad_count, yado_df, on=\"yad_no\", how=\"left\")\n",
    "\n",
    "    # 出現回数が多い順に並び替え\n",
    "    _df = _df.sort_values(\"yad_count\", ascending=False)\n",
    "\n",
    "    # この状態でareaCDごとに上位top件を取得する\n",
    "    area_top = _df.groupby(area).head(top)\n",
    "\n",
    "    # セッションの一番最後の宿に, yado情報を紐付ける\n",
    "    session_last = pd.merge(train_log_df.groupby(\"session_id\").last().reset_index(), \n",
    "                            yado_df, on=\"yad_no\", how=\"left\")\n",
    "\n",
    "    # areaの上位topこの宿を一番最後の宿情報 `session_last` に紐づけ\n",
    "    out_df = pd.merge(session_last[[\"session_id\", area]], \n",
    "            area_top[[area, \"yad_no\"]], on=area, how=\"left\")\n",
    "\n",
    "    # 使うのはセッションと宿の関係\n",
    "    out_df = out_df[[\"session_id\", \"yad_no\"]].copy()\n",
    "    \n",
    "    # ランダムに付け加えたもの以外・同一ログに出現する宿を候補にいれる\n",
    "    out_df = pd.concat([out_df, train_log_df[[\"session_id\", \"yad_no\"]]], ignore_index=True)\n",
    "    \n",
    "    # 重複は意味がないので消します。\n",
    "    out_df = out_df.drop_duplicates()\n",
    "    \n",
    "    # 見た目を揃えるために session / yad の順番でソートをします\n",
    "    out_df = out_df.sort_values([\"session_id\", \"yad_no\"]).reset_index(drop=True)\n",
    "\n",
    "    _df = pd.merge(out_df[[\"session_id\"]], \n",
    "               train_label_df, on=\"session_id\", how=\"left\")\n",
    "    has_truth_yado = (out_df[\"yad_no\"] == _df[\"yad_no\"]).groupby(out_df[\"session_id\"]).sum()\n",
    "\n",
    "    return has_truth_yado.mean()"
   ]
  },
  {
   "cell_type": "code",
   "execution_count": 14,
   "metadata": {},
   "outputs": [
    {
     "data": {
      "text/plain": [
       "0.7326306382448095"
      ]
     },
     "execution_count": 14,
     "metadata": {},
     "output_type": "execute_result"
    }
   ],
   "source": [
    "calc_area(\"ken_cd\", 100)"
   ]
  },
  {
   "cell_type": "code",
   "execution_count": 21,
   "metadata": {},
   "outputs": [
    {
     "data": {
      "text/plain": [
       "0.8606190552064787"
      ]
     },
     "execution_count": 21,
     "metadata": {},
     "output_type": "execute_result"
    }
   ],
   "source": [
    "calc_area(\"ken_cd\", 200)"
   ]
  },
  {
   "cell_type": "code",
   "execution_count": 15,
   "metadata": {},
   "outputs": [
    {
     "data": {
      "text/plain": [
       "0.7402025646176974"
      ]
     },
     "execution_count": 15,
     "metadata": {},
     "output_type": "execute_result"
    }
   ],
   "source": [
    "calc_area(\"lrg_cd\", 30)"
   ]
  },
  {
   "cell_type": "code",
   "execution_count": 17,
   "metadata": {},
   "outputs": [
    {
     "data": {
      "text/plain": [
       "0.837020000138553"
      ]
     },
     "execution_count": 17,
     "metadata": {},
     "output_type": "execute_result"
    }
   ],
   "source": [
    "calc_area(\"lrg_cd\", 50)"
   ]
  },
  {
   "cell_type": "code",
   "execution_count": 18,
   "metadata": {},
   "outputs": [
    {
     "data": {
      "text/plain": [
       "0.9195699312083908"
      ]
     },
     "execution_count": 18,
     "metadata": {},
     "output_type": "execute_result"
    }
   ],
   "source": [
    "calc_area(\"lrg_cd\", 100)"
   ]
  },
  {
   "cell_type": "code",
   "execution_count": 16,
   "metadata": {},
   "outputs": [
    {
     "data": {
      "text/plain": [
       "0.7311308010446903"
      ]
     },
     "execution_count": 16,
     "metadata": {},
     "output_type": "execute_result"
    }
   ],
   "source": [
    "calc_area(\"sml_cd\", 30)"
   ]
  },
  {
   "cell_type": "code",
   "execution_count": 19,
   "metadata": {},
   "outputs": [
    {
     "data": {
      "text/plain": [
       "0.7948063374183403"
      ]
     },
     "execution_count": 19,
     "metadata": {},
     "output_type": "execute_result"
    }
   ],
   "source": [
    "calc_area(\"sml_cd\", 50)"
   ]
  },
  {
   "cell_type": "code",
   "execution_count": 20,
   "metadata": {},
   "outputs": [
    {
     "data": {
      "text/plain": [
       "0.8344533041448157"
      ]
     },
     "execution_count": 20,
     "metadata": {},
     "output_type": "execute_result"
    }
   ],
   "source": [
    "calc_area(\"sml_cd\", 100)"
   ]
  }
 ],
 "metadata": {
  "kernelspec": {
   "display_name": "atma16env",
   "language": "python",
   "name": "python3"
  },
  "language_info": {
   "codemirror_mode": {
    "name": "ipython",
    "version": 3
   },
   "file_extension": ".py",
   "mimetype": "text/x-python",
   "name": "python",
   "nbconvert_exporter": "python",
   "pygments_lexer": "ipython3",
   "version": "3.10.12"
  }
 },
 "nbformat": 4,
 "nbformat_minor": 2
}
