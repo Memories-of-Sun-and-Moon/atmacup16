{
 "cells": [
  {
   "cell_type": "markdown",
   "metadata": {},
   "source": [
    "いつも楽しいコンペをありがとうございますー！   \n",
    "\n",
    "簡単にtrain/test_log.csvについてとedaを行いました。  \n",
    "train/testの比較観点ポイントまとめると  \n",
    "- session_idの重複はない  \n",
    "- 直帰率の差はない\n",
    "- webページ遷移数の分布の差はほとんどない(連続した連続した同じ宿が出現する場合は一つの宿IDになっていることは注意)  \n",
    "- 同sessionで同じ宿を2回以上見ているsessionは各々全体の3.5%ほどで差がない  \n",
    "    - 調べている限りA->B->A->B... と2つの宿をいったりきたりのsessionしか見つけられてない(更に調査は必要)  \n",
    "\n",
    "と結果的には差がないことを調査した形になってしまいました"
   ]
  },
  {
   "cell_type": "code",
   "execution_count": 160,
   "metadata": {},
   "outputs": [],
   "source": [
    "import polars as pl\n",
    "pl.Config.set_fmt_str_lengths(100)\n",
    "import pandas as pd\n",
    "import numpy as np\n",
    "\n",
    "from matplotlib import pyplot as plt\n",
    "from matplotlib_venn import venn2\n",
    "\n",
    "from pathlib import Path\n",
    "# data_dir\n",
    "DATA_DIR = Path(\"~/GitHub/atma16_session_recommend/data/atmaCup16_Dataset\")\n"
   ]
  },
  {
   "cell_type": "markdown",
   "metadata": {},
   "source": [
    "## train/test_log"
   ]
  },
  {
   "cell_type": "code",
   "execution_count": 161,
   "metadata": {},
   "outputs": [],
   "source": [
    "train_df = pl.read_csv(DATA_DIR / \"train_log.csv\")\n",
    "test_df = pl.read_csv(DATA_DIR / \"test_log.csv\")"
   ]
  },
  {
   "cell_type": "markdown",
   "metadata": {},
   "source": [
    "### 概要確認"
   ]
  },
  {
   "cell_type": "code",
   "execution_count": 166,
   "metadata": {},
   "outputs": [
    {
     "data": {
      "text/plain": [
       "'train概要'"
      ]
     },
     "metadata": {},
     "output_type": "display_data"
    },
    {
     "data": {
      "text/html": [
       "<div><style>\n",
       ".dataframe > thead > tr,\n",
       ".dataframe > tbody > tr {\n",
       "  text-align: right;\n",
       "  white-space: pre-wrap;\n",
       "}\n",
       "</style>\n",
       "<small>shape: (9, 4)</small><table border=\"1\" class=\"dataframe\"><thead><tr><th>describe</th><th>session_id</th><th>seq_no</th><th>yad_no</th></tr><tr><td>str</td><td>str</td><td>f64</td><td>f64</td></tr></thead><tbody><tr><td>&quot;count&quot;</td><td>&quot;419270&quot;</td><td>419270.0</td><td>419270.0</td></tr><tr><td>&quot;null_count&quot;</td><td>&quot;0&quot;</td><td>0.0</td><td>0.0</td></tr><tr><td>&quot;mean&quot;</td><td>null</td><td>0.397658</td><td>6879.812331</td></tr><tr><td>&quot;std&quot;</td><td>null</td><td>0.684395</td><td>4018.859073</td></tr><tr><td>&quot;min&quot;</td><td>&quot;000007603d533d30453cc45d0f3d119f&quot;</td><td>0.0</td><td>2.0</td></tr><tr><td>&quot;25%&quot;</td><td>null</td><td>0.0</td><td>3338.0</td></tr><tr><td>&quot;50%&quot;</td><td>null</td><td>0.0</td><td>6873.0</td></tr><tr><td>&quot;75%&quot;</td><td>null</td><td>1.0</td><td>10350.0</td></tr><tr><td>&quot;max&quot;</td><td>&quot;fffffa7baf370083ebcdd98f26a7e31a&quot;</td><td>9.0</td><td>13806.0</td></tr></tbody></table></div>"
      ],
      "text/plain": [
       "shape: (9, 4)\n",
       "┌────────────┬──────────────────────────────────┬──────────┬─────────────┐\n",
       "│ describe   ┆ session_id                       ┆ seq_no   ┆ yad_no      │\n",
       "│ ---        ┆ ---                              ┆ ---      ┆ ---         │\n",
       "│ str        ┆ str                              ┆ f64      ┆ f64         │\n",
       "╞════════════╪══════════════════════════════════╪══════════╪═════════════╡\n",
       "│ count      ┆ 419270                           ┆ 419270.0 ┆ 419270.0    │\n",
       "│ null_count ┆ 0                                ┆ 0.0      ┆ 0.0         │\n",
       "│ mean       ┆ null                             ┆ 0.397658 ┆ 6879.812331 │\n",
       "│ std        ┆ null                             ┆ 0.684395 ┆ 4018.859073 │\n",
       "│ min        ┆ 000007603d533d30453cc45d0f3d119f ┆ 0.0      ┆ 2.0         │\n",
       "│ 25%        ┆ null                             ┆ 0.0      ┆ 3338.0      │\n",
       "│ 50%        ┆ null                             ┆ 0.0      ┆ 6873.0      │\n",
       "│ 75%        ┆ null                             ┆ 1.0      ┆ 10350.0     │\n",
       "│ max        ┆ fffffa7baf370083ebcdd98f26a7e31a ┆ 9.0      ┆ 13806.0     │\n",
       "└────────────┴──────────────────────────────────┴──────────┴─────────────┘"
      ]
     },
     "metadata": {},
     "output_type": "display_data"
    },
    {
     "name": "stdout",
     "output_type": "stream",
     "text": [
      "train_session_id unique数 288698\n"
     ]
    },
    {
     "data": {
      "text/plain": [
       "'test概要'"
      ]
     },
     "metadata": {},
     "output_type": "display_data"
    },
    {
     "data": {
      "text/html": [
       "<div><style>\n",
       ".dataframe > thead > tr,\n",
       ".dataframe > tbody > tr {\n",
       "  text-align: right;\n",
       "  white-space: pre-wrap;\n",
       "}\n",
       "</style>\n",
       "<small>shape: (9, 4)</small><table border=\"1\" class=\"dataframe\"><thead><tr><th>describe</th><th>session_id</th><th>seq_no</th><th>yad_no</th></tr><tr><td>str</td><td>str</td><td>f64</td><td>f64</td></tr></thead><tbody><tr><td>&quot;count&quot;</td><td>&quot;250305&quot;</td><td>250305.0</td><td>250305.0</td></tr><tr><td>&quot;null_count&quot;</td><td>&quot;0&quot;</td><td>0.0</td><td>0.0</td></tr><tr><td>&quot;mean&quot;</td><td>null</td><td>0.379657</td><td>6859.588977</td></tr><tr><td>&quot;std&quot;</td><td>null</td><td>0.661502</td><td>3982.391402</td></tr><tr><td>&quot;min&quot;</td><td>&quot;00001149e9c73985425197104712478c&quot;</td><td>0.0</td><td>1.0</td></tr><tr><td>&quot;25%&quot;</td><td>null</td><td>0.0</td><td>3361.0</td></tr><tr><td>&quot;50%&quot;</td><td>null</td><td>0.0</td><td>6839.0</td></tr><tr><td>&quot;75%&quot;</td><td>null</td><td>1.0</td><td>10305.0</td></tr><tr><td>&quot;max&quot;</td><td>&quot;ffffe984aafd6127ce8e43e3ca40c79d&quot;</td><td>7.0</td><td>13806.0</td></tr></tbody></table></div>"
      ],
      "text/plain": [
       "shape: (9, 4)\n",
       "┌────────────┬──────────────────────────────────┬──────────┬─────────────┐\n",
       "│ describe   ┆ session_id                       ┆ seq_no   ┆ yad_no      │\n",
       "│ ---        ┆ ---                              ┆ ---      ┆ ---         │\n",
       "│ str        ┆ str                              ┆ f64      ┆ f64         │\n",
       "╞════════════╪══════════════════════════════════╪══════════╪═════════════╡\n",
       "│ count      ┆ 250305                           ┆ 250305.0 ┆ 250305.0    │\n",
       "│ null_count ┆ 0                                ┆ 0.0      ┆ 0.0         │\n",
       "│ mean       ┆ null                             ┆ 0.379657 ┆ 6859.588977 │\n",
       "│ std        ┆ null                             ┆ 0.661502 ┆ 3982.391402 │\n",
       "│ min        ┆ 00001149e9c73985425197104712478c ┆ 0.0      ┆ 1.0         │\n",
       "│ 25%        ┆ null                             ┆ 0.0      ┆ 3361.0      │\n",
       "│ 50%        ┆ null                             ┆ 0.0      ┆ 6839.0      │\n",
       "│ 75%        ┆ null                             ┆ 1.0      ┆ 10305.0     │\n",
       "│ max        ┆ ffffe984aafd6127ce8e43e3ca40c79d ┆ 7.0      ┆ 13806.0     │\n",
       "└────────────┴──────────────────────────────────┴──────────┴─────────────┘"
      ]
     },
     "metadata": {},
     "output_type": "display_data"
    },
    {
     "name": "stdout",
     "output_type": "stream",
     "text": [
      "test_session_id unique数 174700\n"
     ]
    }
   ],
   "source": [
    "# describeで概要確認\n",
    "display(\"train概要\", train_df.describe())\n",
    "print(\"train_session_id unique数\", train_df.select(pl.col(\"session_id\").n_unique()).item())\n",
    "\n",
    "display(\"test概要\", test_df.describe())\n",
    "print(\"test_session_id unique数\", test_df.select(pl.col(\"session_id\").n_unique()).item())\n"
   ]
  },
  {
   "cell_type": "markdown",
   "metadata": {},
   "source": [
    "両とも欠損無し  \n",
    "データ数/session_id unique数共に testはtrainの60%ほど"
   ]
  },
  {
   "cell_type": "markdown",
   "metadata": {},
   "source": [
    "### session_idの重複確認  "
   ]
  },
  {
   "cell_type": "code",
   "execution_count": 101,
   "metadata": {},
   "outputs": [
    {
     "data": {
      "image/png": "[encoded data removed]",
      "text/plain": [
       "<Figure size 640x480 with 1 Axes>"
      ]
     },
     "metadata": {},
     "output_type": "display_data"
    }
   ],
   "source": [
    "# train/testでsession_id重複はあるか\n",
    "train_sessions = set(train_df.get_column(\"session_id\"))\n",
    "test_sessions = set(test_df.get_column(\"session_id\"))\n",
    "\n",
    "venn2(subsets=[train_sessions, test_sessions], set_labels=(\"train\", \"test\"))\n",
    "plt.show()"
   ]
  },
  {
   "cell_type": "markdown",
   "metadata": {},
   "source": [
    "train/testで重複はないので純粋に行動履歴での検討が必要  "
   ]
  },
  {
   "cell_type": "markdown",
   "metadata": {},
   "source": [
    "### 直帰率の確認  "
   ]
  },
  {
   "cell_type": "code",
   "execution_count": 102,
   "metadata": {},
   "outputs": [
    {
     "name": "stdout",
     "output_type": "stream",
     "text": [
      "train直帰率: 0.44216376082238174\n",
      "test直帰率: 0.45520465032660157\n"
     ]
    }
   ],
   "source": [
    "# train/test_log内での直帰率(webページを1つだけ見て離脱したsessionの率)\n",
    "train_session_count_df = (\n",
    "    train_df\n",
    "    .group_by(\"session_id\")\n",
    "    .agg(pl.count())\n",
    ")\n",
    "\n",
    "test_session_count_df = (\n",
    "    test_df\n",
    "    .group_by(\"session_id\")\n",
    "    .agg(pl.count())\n",
    ")\n",
    "\n",
    "print(\n",
    "    \"train直帰率:\",\n",
    "    (\n",
    "        len(\n",
    "            train_session_count_df\n",
    "            .filter(pl.col(\"count\")==1)\n",
    "        )\n",
    "\n",
    "        /\n",
    "\n",
    "        len(train_df)\n",
    "    )\n",
    ")\n",
    "\n",
    "print(\n",
    "    \"test直帰率:\",\n",
    "    (\n",
    "        len(\n",
    "            test_session_count_df\n",
    "            .filter(pl.col(\"count\")==1)\n",
    "        )\n",
    "\n",
    "        /\n",
    "\n",
    "        len(test_df)\n",
    "    )\n",
    ")"
   ]
  },
  {
   "cell_type": "markdown",
   "metadata": {},
   "source": [
    "直帰率は両とも約45%ほどで差がない  \n",
    "このようなsessionたちへのレコメンドはデータが少ないので難しい  \n",
    "一般的に人気の宿をおすすめするのが無難かもしれない  "
   ]
  },
  {
   "cell_type": "markdown",
   "metadata": {},
   "source": [
    "### サイト遷移数の分布  "
   ]
  },
  {
   "cell_type": "code",
   "execution_count": 163,
   "metadata": {},
   "outputs": [
    {
     "name": "stdout",
     "output_type": "stream",
     "text": [
      "train_count_max: 10\n",
      "test_count_max: 8\n"
     ]
    },
    {
     "data": {
      "image/png": "[encoded data removed]",
      "text/plain": [
       "<Figure size 640x480 with 1 Axes>"
      ]
     },
     "metadata": {},
     "output_type": "display_data"
    }
   ],
   "source": [
    "# サイト遷移数の分布\n",
    "train_count_max = train_session_count_df.get_column(\"count\").max()\n",
    "train_count_min = train_session_count_df.get_column(\"count\").min()\n",
    "train_count_mean = train_session_count_df.get_column(\"count\").mean()\n",
    "print(\"train_count_max:\", train_count_max)\n",
    "\n",
    "test_count_max = test_session_count_df.get_column(\"count\").max()\n",
    "test_count_min = test_session_count_df.get_column(\"count\").min()\n",
    "test_count_mean = test_session_count_df.get_column(\"count\").mean()\n",
    "print(\"test_count_max:\", test_count_max)\n",
    "\n",
    "max_value = max(train_count_max, test_count_max)\n",
    "min_value = min(train_count_min, test_count_min)\n",
    "\n",
    "bins = np.linspace(min_value, max_value, 10)\n",
    "\n",
    "plt.hist(train_session_count_df.select(pl.col(\"count\")), bins=bins, label=\"train\", alpha=0.5, density=True)\n",
    "plt.axvline(train_count_mean, color='blue', linestyle='dashed', linewidth=1, alpha=0.5)\n",
    "\n",
    "plt.hist(test_session_count_df.select(pl.col(\"count\")), bins=bins, label=\"test\", alpha=0.5, density=True)\n",
    "plt.axvline(test_count_mean, color='orange', linestyle='dashed', linewidth=1, alpha=0.5)\n",
    "plt.legend()\n",
    "plt.show()"
   ]
  },
  {
   "cell_type": "markdown",
   "metadata": {},
   "source": [
    "サイト遷移数の分布もtrain_test共に差がない  \n",
    "平均は1.45くらい\n",
    "trainデータセットの方が宿遷移数がmax10のセッションがある testデータセットでは8  \n",
    "説明でもあったように、「連続した同じ宿が出現する場合、それらは一つの宿IDになっている」とのことなので  \n",
    "同じ宿IDが連続する状況は  \n",
    "宿概要 -> プラン一覧 -> プラン詳細...  \n",
    "みたいな遷移のようなものだろうか \"詳細まで見てるものはレコメンド対象\"みたいなものができたら良さそうなのだがこのデータからはできなさそう"
   ]
  },
  {
   "cell_type": "markdown",
   "metadata": {},
   "source": [
    "### 同じ宿を2回以上確認しているsession  "
   ]
  },
  {
   "cell_type": "code",
   "execution_count": 150,
   "metadata": {},
   "outputs": [
    {
     "data": {
      "text/plain": [
       "'train'"
      ]
     },
     "metadata": {},
     "output_type": "display_data"
    },
    {
     "data": {
      "text/plain": [
       "'session_id unique数: 15332'"
      ]
     },
     "metadata": {},
     "output_type": "display_data"
    },
    {
     "data": {
      "text/plain": [
       "'session/yad_no毎のカウント:'"
      ]
     },
     "metadata": {},
     "output_type": "display_data"
    },
    {
     "data": {
      "text/html": [
       "<div><style>\n",
       ".dataframe > thead > tr,\n",
       ".dataframe > tbody > tr {\n",
       "  text-align: right;\n",
       "  white-space: pre-wrap;\n",
       "}\n",
       "</style>\n",
       "<small>shape: (19_692, 3)</small><table border=\"1\" class=\"dataframe\"><thead><tr><th>session_id</th><th>yad_no</th><th>count</th></tr><tr><td>str</td><td>i64</td><td>u32</td></tr></thead><tbody><tr><td>&quot;ffffcd5bc19d62cad5a3815c87818d83&quot;</td><td>12230</td><td>2</td></tr><tr><td>&quot;fffc996274862c136b754a5d591a3bb3&quot;</td><td>13292</td><td>2</td></tr><tr><td>&quot;fffc996274862c136b754a5d591a3bb3&quot;</td><td>12785</td><td>2</td></tr><tr><td>&quot;fffa73278857a3cf46c16c207dbbcbd8&quot;</td><td>1726</td><td>2</td></tr><tr><td>&quot;fff92e265c6b2b56fdbc0b89e18a34ab&quot;</td><td>1636</td><td>2</td></tr><tr><td>&quot;fff92e265c6b2b56fdbc0b89e18a34ab&quot;</td><td>1587</td><td>2</td></tr><tr><td>&quot;fff77fa4c36c982e2f7f58e924e11d52&quot;</td><td>5444</td><td>2</td></tr><tr><td>&quot;fff77fa4c36c982e2f7f58e924e11d52&quot;</td><td>3666</td><td>2</td></tr><tr><td>&quot;fff2bc8a171d57bfabf30d28ad889853&quot;</td><td>13722</td><td>2</td></tr><tr><td>&quot;fff2bc8a171d57bfabf30d28ad889853&quot;</td><td>12749</td><td>2</td></tr><tr><td>&quot;fff15c3f9b9b3040785f1c37ac7fcf06&quot;</td><td>7142</td><td>3</td></tr><tr><td>&quot;fff15c3f9b9b3040785f1c37ac7fcf06&quot;</td><td>11553</td><td>2</td></tr><tr><td>&hellip;</td><td>&hellip;</td><td>&hellip;</td></tr><tr><td>&quot;00241756402edbe9d5a82681460f5bbf&quot;</td><td>1196</td><td>2</td></tr><tr><td>&quot;00231604b200df8c5b516298f431a56f&quot;</td><td>4341</td><td>2</td></tr><tr><td>&quot;00220bc6469bce5f751246e8b5bfa9fd&quot;</td><td>12946</td><td>2</td></tr><tr><td>&quot;001d2bfb0608cf3f31a10d536d6a2d34&quot;</td><td>8262</td><td>2</td></tr><tr><td>&quot;001d2bfb0608cf3f31a10d536d6a2d34&quot;</td><td>5149</td><td>2</td></tr><tr><td>&quot;00177ad4bf013085f7d5d384a12f67b5&quot;</td><td>1823</td><td>2</td></tr><tr><td>&quot;000ded3703abf42c1d071c7b50a592a9&quot;</td><td>966</td><td>2</td></tr><tr><td>&quot;000cfa9ae7c9e0f6c51240a4fb00345d&quot;</td><td>3422</td><td>2</td></tr><tr><td>&quot;000b45e91b9b92119cae54b5b54afbb3&quot;</td><td>6441</td><td>2</td></tr><tr><td>&quot;0007dd71a9a78c567084374a66e38139&quot;</td><td>2927</td><td>3</td></tr><tr><td>&quot;0007dd71a9a78c567084374a66e38139&quot;</td><td>11037</td><td>3</td></tr><tr><td>&quot;00065cb66bc81b800dbc4ebaec54e4d9&quot;</td><td>712</td><td>2</td></tr></tbody></table></div>"
      ],
      "text/plain": [
       "shape: (19_692, 3)\n",
       "┌──────────────────────────────────┬────────┬───────┐\n",
       "│ session_id                       ┆ yad_no ┆ count │\n",
       "│ ---                              ┆ ---    ┆ ---   │\n",
       "│ str                              ┆ i64    ┆ u32   │\n",
       "╞══════════════════════════════════╪════════╪═══════╡\n",
       "│ ffffcd5bc19d62cad5a3815c87818d83 ┆ 12230  ┆ 2     │\n",
       "│ fffc996274862c136b754a5d591a3bb3 ┆ 13292  ┆ 2     │\n",
       "│ fffc996274862c136b754a5d591a3bb3 ┆ 12785  ┆ 2     │\n",
       "│ fffa73278857a3cf46c16c207dbbcbd8 ┆ 1726   ┆ 2     │\n",
       "│ …                                ┆ …      ┆ …     │\n",
       "│ 000b45e91b9b92119cae54b5b54afbb3 ┆ 6441   ┆ 2     │\n",
       "│ 0007dd71a9a78c567084374a66e38139 ┆ 2927   ┆ 3     │\n",
       "│ 0007dd71a9a78c567084374a66e38139 ┆ 11037  ┆ 3     │\n",
       "│ 00065cb66bc81b800dbc4ebaec54e4d9 ┆ 712    ┆ 2     │\n",
       "└──────────────────────────────────┴────────┴───────┘"
      ]
     },
     "metadata": {},
     "output_type": "display_data"
    },
    {
     "data": {
      "text/plain": [
       "'test'"
      ]
     },
     "metadata": {},
     "output_type": "display_data"
    },
    {
     "data": {
      "text/plain": [
       "'session_id unique数: 8923'"
      ]
     },
     "metadata": {},
     "output_type": "display_data"
    },
    {
     "data": {
      "text/plain": [
       "'session/yad_no毎のカウント:'"
      ]
     },
     "metadata": {},
     "output_type": "display_data"
    },
    {
     "data": {
      "text/html": [
       "<div><style>\n",
       ".dataframe > thead > tr,\n",
       ".dataframe > tbody > tr {\n",
       "  text-align: right;\n",
       "  white-space: pre-wrap;\n",
       "}\n",
       "</style>\n",
       "<small>shape: (11_454, 3)</small><table border=\"1\" class=\"dataframe\"><thead><tr><th>session_id</th><th>yad_no</th><th>count</th></tr><tr><td>str</td><td>i64</td><td>u32</td></tr></thead><tbody><tr><td>&quot;fff8c15d0ee42da2329958308d730a52&quot;</td><td>5073</td><td>2</td></tr><tr><td>&quot;ffe6b66f8ccba0b7eb93d43c8e3f926b&quot;</td><td>9654</td><td>2</td></tr><tr><td>&quot;ffe1c16740cb557b3e925f3992424249&quot;</td><td>1170</td><td>2</td></tr><tr><td>&quot;ffd376208e4db52955bd37fe516fadfc&quot;</td><td>13232</td><td>2</td></tr><tr><td>&quot;ffd2591b9e1c4ab30e2a60ba7c410756&quot;</td><td>12408</td><td>2</td></tr><tr><td>&quot;ffca009ee13f16c6825ad024aebafed6&quot;</td><td>7667</td><td>2</td></tr><tr><td>&quot;ffaf7522d90c4f3e3ba9eefcade49a38&quot;</td><td>3812</td><td>2</td></tr><tr><td>&quot;ffa8a968027dada4afb61004cb34d1bf&quot;</td><td>9380</td><td>2</td></tr><tr><td>&quot;ffa6ad836e9121246ec631d4d1b1dd30&quot;</td><td>6659</td><td>2</td></tr><tr><td>&quot;ffa6ad836e9121246ec631d4d1b1dd30&quot;</td><td>4920</td><td>2</td></tr><tr><td>&quot;ff9e1a50e23b6d35a28ba066fb041dd8&quot;</td><td>7413</td><td>2</td></tr><tr><td>&quot;ff9e1a50e23b6d35a28ba066fb041dd8&quot;</td><td>5657</td><td>2</td></tr><tr><td>&hellip;</td><td>&hellip;</td><td>&hellip;</td></tr><tr><td>&quot;0040552a9f9f20a75cdb4d3d76b76082&quot;</td><td>6500</td><td>2</td></tr><tr><td>&quot;003b505ec27255dcab2edba89377118f&quot;</td><td>8524</td><td>2</td></tr><tr><td>&quot;003b505ec27255dcab2edba89377118f&quot;</td><td>11352</td><td>2</td></tr><tr><td>&quot;0033b9bdeb087b04e1728966f348e370&quot;</td><td>7539</td><td>2</td></tr><tr><td>&quot;0033a32c89f84a64f8b90ef894ccae66&quot;</td><td>2927</td><td>2</td></tr><tr><td>&quot;0015628d1d45dcfd7ade311f6cabac4b&quot;</td><td>11723</td><td>2</td></tr><tr><td>&quot;0014636315d3f2408e5d67f7d917d89a&quot;</td><td>1584</td><td>2</td></tr><tr><td>&quot;0014636315d3f2408e5d67f7d917d89a&quot;</td><td>12480</td><td>2</td></tr><tr><td>&quot;00070fbd6aef9026efa0678ed9f5a303&quot;</td><td>12069</td><td>2</td></tr><tr><td>&quot;0005495338dfb3cab55004213fc84bbd&quot;</td><td>11711</td><td>2</td></tr><tr><td>&quot;0003f18c0c221438a9f90a5f6a4e9330&quot;</td><td>12425</td><td>2</td></tr><tr><td>&quot;000174a6f7a569b84c5575760d2e9664&quot;</td><td>13610</td><td>2</td></tr></tbody></table></div>"
      ],
      "text/plain": [
       "shape: (11_454, 3)\n",
       "┌──────────────────────────────────┬────────┬───────┐\n",
       "│ session_id                       ┆ yad_no ┆ count │\n",
       "│ ---                              ┆ ---    ┆ ---   │\n",
       "│ str                              ┆ i64    ┆ u32   │\n",
       "╞══════════════════════════════════╪════════╪═══════╡\n",
       "│ fff8c15d0ee42da2329958308d730a52 ┆ 5073   ┆ 2     │\n",
       "│ ffe6b66f8ccba0b7eb93d43c8e3f926b ┆ 9654   ┆ 2     │\n",
       "│ ffe1c16740cb557b3e925f3992424249 ┆ 1170   ┆ 2     │\n",
       "│ ffd376208e4db52955bd37fe516fadfc ┆ 13232  ┆ 2     │\n",
       "│ …                                ┆ …      ┆ …     │\n",
       "│ 00070fbd6aef9026efa0678ed9f5a303 ┆ 12069  ┆ 2     │\n",
       "│ 0005495338dfb3cab55004213fc84bbd ┆ 11711  ┆ 2     │\n",
       "│ 0003f18c0c221438a9f90a5f6a4e9330 ┆ 12425  ┆ 2     │\n",
       "│ 000174a6f7a569b84c5575760d2e9664 ┆ 13610  ┆ 2     │\n",
       "└──────────────────────────────────┴────────┴───────┘"
      ]
     },
     "metadata": {},
     "output_type": "display_data"
    }
   ],
   "source": [
    "# A宿 -> B宿 -> A宿のように同じ宿を2回以上確認しているsessionはあるのか\n",
    "train_duplicated_yad_no_df = (\n",
    "    train_df\n",
    "    .filter(\n",
    "        pl.col(\"yad_no\")\n",
    "        .is_duplicated()\n",
    "        .over(\"session_id\")\n",
    "    )\n",
    "    .group_by([\"session_id\", \"yad_no\"])\n",
    "    .agg(pl.count())\n",
    "    .sort([\"session_id\", \"count\"], descending=True)\n",
    ")\n",
    "\n",
    "test_duplicated_yad_no_df = (\n",
    "    test_df\n",
    "    .filter(\n",
    "        pl.col(\"yad_no\")\n",
    "        .is_duplicated()\n",
    "        .over(\"session_id\")\n",
    "    )\n",
    "    .group_by([\"session_id\", \"yad_no\"])\n",
    "    .agg(pl.count())\n",
    "    .sort([\"session_id\", \"count\"], descending=True)\n",
    ")\n",
    "\n",
    "\n",
    "display(\n",
    "    \"train\",\n",
    "    f\"session_id unique数: {train_duplicated_yad_no_df.get_column('session_id').n_unique()}\",\n",
    "    \"session/yad_no毎のカウント:\",\n",
    "    train_duplicated_yad_no_df\n",
    "    ,\n",
    "    \"test\",\n",
    "    f\"session_id unique数: {test_duplicated_yad_no_df.get_column('session_id').n_unique()}\",\n",
    "    \"session/yad_no毎のカウント:\",\n",
    "    test_duplicated_yad_no_df\n",
    ")"
   ]
  },
  {
   "cell_type": "markdown",
   "metadata": {},
   "source": [
    "同じ宿を2回以上調べているsession_idはtrain, testの約3.5%と差がない  \n",
    "各々の代表データを確認する"
   ]
  },
  {
   "cell_type": "code",
   "execution_count": 133,
   "metadata": {},
   "outputs": [
    {
     "data": {
      "text/plain": [
       "'train'"
      ]
     },
     "metadata": {},
     "output_type": "display_data"
    },
    {
     "data": {
      "text/html": [
       "<div><style>\n",
       ".dataframe > thead > tr,\n",
       ".dataframe > tbody > tr {\n",
       "  text-align: right;\n",
       "  white-space: pre-wrap;\n",
       "}\n",
       "</style>\n",
       "<small>shape: (9, 3)</small><table border=\"1\" class=\"dataframe\"><thead><tr><th>session_id</th><th>seq_no</th><th>yad_no</th></tr><tr><td>str</td><td>i64</td><td>i64</td></tr></thead><tbody><tr><td>&quot;c2ba59a9eca4ff52f466793b7ce9a03a&quot;</td><td>0</td><td>9308</td></tr><tr><td>&quot;c2ba59a9eca4ff52f466793b7ce9a03a&quot;</td><td>1</td><td>5252</td></tr><tr><td>&quot;c2ba59a9eca4ff52f466793b7ce9a03a&quot;</td><td>2</td><td>9308</td></tr><tr><td>&quot;c2ba59a9eca4ff52f466793b7ce9a03a&quot;</td><td>3</td><td>5252</td></tr><tr><td>&quot;c2ba59a9eca4ff52f466793b7ce9a03a&quot;</td><td>4</td><td>9308</td></tr><tr><td>&quot;c2ba59a9eca4ff52f466793b7ce9a03a&quot;</td><td>5</td><td>5252</td></tr><tr><td>&quot;c2ba59a9eca4ff52f466793b7ce9a03a&quot;</td><td>6</td><td>9308</td></tr><tr><td>&quot;c2ba59a9eca4ff52f466793b7ce9a03a&quot;</td><td>7</td><td>5252</td></tr><tr><td>&quot;c2ba59a9eca4ff52f466793b7ce9a03a&quot;</td><td>8</td><td>9308</td></tr></tbody></table></div>"
      ],
      "text/plain": [
       "shape: (9, 3)\n",
       "┌──────────────────────────────────┬────────┬────────┐\n",
       "│ session_id                       ┆ seq_no ┆ yad_no │\n",
       "│ ---                              ┆ ---    ┆ ---    │\n",
       "│ str                              ┆ i64    ┆ i64    │\n",
       "╞══════════════════════════════════╪════════╪════════╡\n",
       "│ c2ba59a9eca4ff52f466793b7ce9a03a ┆ 0      ┆ 9308   │\n",
       "│ c2ba59a9eca4ff52f466793b7ce9a03a ┆ 1      ┆ 5252   │\n",
       "│ c2ba59a9eca4ff52f466793b7ce9a03a ┆ 2      ┆ 9308   │\n",
       "│ c2ba59a9eca4ff52f466793b7ce9a03a ┆ 3      ┆ 5252   │\n",
       "│ c2ba59a9eca4ff52f466793b7ce9a03a ┆ 4      ┆ 9308   │\n",
       "│ c2ba59a9eca4ff52f466793b7ce9a03a ┆ 5      ┆ 5252   │\n",
       "│ c2ba59a9eca4ff52f466793b7ce9a03a ┆ 6      ┆ 9308   │\n",
       "│ c2ba59a9eca4ff52f466793b7ce9a03a ┆ 7      ┆ 5252   │\n",
       "│ c2ba59a9eca4ff52f466793b7ce9a03a ┆ 8      ┆ 9308   │\n",
       "└──────────────────────────────────┴────────┴────────┘"
      ]
     },
     "metadata": {},
     "output_type": "display_data"
    },
    {
     "data": {
      "text/plain": [
       "'test'"
      ]
     },
     "metadata": {},
     "output_type": "display_data"
    },
    {
     "data": {
      "text/html": [
       "<div><style>\n",
       ".dataframe > thead > tr,\n",
       ".dataframe > tbody > tr {\n",
       "  text-align: right;\n",
       "  white-space: pre-wrap;\n",
       "}\n",
       "</style>\n",
       "<small>shape: (8, 3)</small><table border=\"1\" class=\"dataframe\"><thead><tr><th>session_id</th><th>seq_no</th><th>yad_no</th></tr><tr><td>str</td><td>i64</td><td>i64</td></tr></thead><tbody><tr><td>&quot;beaf391cbaa4612ee9fcf533de745eaa&quot;</td><td>0</td><td>719</td></tr><tr><td>&quot;beaf391cbaa4612ee9fcf533de745eaa&quot;</td><td>1</td><td>2797</td></tr><tr><td>&quot;beaf391cbaa4612ee9fcf533de745eaa&quot;</td><td>2</td><td>719</td></tr><tr><td>&quot;beaf391cbaa4612ee9fcf533de745eaa&quot;</td><td>3</td><td>2797</td></tr><tr><td>&quot;beaf391cbaa4612ee9fcf533de745eaa&quot;</td><td>4</td><td>719</td></tr><tr><td>&quot;beaf391cbaa4612ee9fcf533de745eaa&quot;</td><td>5</td><td>2797</td></tr><tr><td>&quot;beaf391cbaa4612ee9fcf533de745eaa&quot;</td><td>6</td><td>719</td></tr><tr><td>&quot;beaf391cbaa4612ee9fcf533de745eaa&quot;</td><td>7</td><td>2797</td></tr></tbody></table></div>"
      ],
      "text/plain": [
       "shape: (8, 3)\n",
       "┌──────────────────────────────────┬────────┬────────┐\n",
       "│ session_id                       ┆ seq_no ┆ yad_no │\n",
       "│ ---                              ┆ ---    ┆ ---    │\n",
       "│ str                              ┆ i64    ┆ i64    │\n",
       "╞══════════════════════════════════╪════════╪════════╡\n",
       "│ beaf391cbaa4612ee9fcf533de745eaa ┆ 0      ┆ 719    │\n",
       "│ beaf391cbaa4612ee9fcf533de745eaa ┆ 1      ┆ 2797   │\n",
       "│ beaf391cbaa4612ee9fcf533de745eaa ┆ 2      ┆ 719    │\n",
       "│ beaf391cbaa4612ee9fcf533de745eaa ┆ 3      ┆ 2797   │\n",
       "│ beaf391cbaa4612ee9fcf533de745eaa ┆ 4      ┆ 719    │\n",
       "│ beaf391cbaa4612ee9fcf533de745eaa ┆ 5      ┆ 2797   │\n",
       "│ beaf391cbaa4612ee9fcf533de745eaa ┆ 6      ┆ 719    │\n",
       "│ beaf391cbaa4612ee9fcf533de745eaa ┆ 7      ┆ 2797   │\n",
       "└──────────────────────────────────┴────────┴────────┘"
      ]
     },
     "metadata": {},
     "output_type": "display_data"
    }
   ],
   "source": [
    "display(\n",
    "    \"train\",\n",
    "    train_df\n",
    "    .filter(pl.col(\"session_id\")==\"c2ba59a9eca4ff52f466793b7ce9a03a\"),\n",
    "    \"test\",\n",
    "    test_df\n",
    "    .filter(pl.col(\"session_id\")==\"beaf391cbaa4612ee9fcf533de745eaa\"),\n",
    ")"
   ]
  },
  {
   "cell_type": "markdown",
   "metadata": {},
   "source": [
    "いったりきたりパターン  \n",
    "この人は既に2つに絞って考えられてる  \n",
    "セッション内で最後に出現する宿は必ず正解ラベルと異なるので、もう一つのyad_noが有力候補になる  \n",
    "</br>\n",
    "ざっと見たかぎりこのパターンしか見つけれられていない(他のパターンもありそうなのでもっと調査が必要です)  "
   ]
  }
 ],
 "metadata": {
  "kernelspec": {
   "display_name": ".venv",
   "language": "python",
   "name": "python3"
  },
  "language_info": {
   "codemirror_mode": {
    "name": "ipython",
    "version": 3
   },
   "file_extension": ".py",
   "mimetype": "text/x-python",
   "name": "python",
   "nbconvert_exporter": "python",
   "pygments_lexer": "ipython3",
   "version": "3.10.13"
  }
 },
 "nbformat": 4,
 "nbformat_minor": 2
}
